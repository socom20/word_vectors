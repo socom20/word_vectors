{
 "cells": [
  {
   "cell_type": "markdown",
   "metadata": {
    "colab_type": "text",
    "id": "Ic4_occAAiAT"
   },
   "source": [
    "# Word Vectors"
   ]
  },
  {
   "cell_type": "markdown",
   "metadata": {
    "colab_type": "text",
    "id": "Eg62Pmz3o83v"
   },
   "source": [
    "En este trabajo, utilizaremos **embeddings** para resolver un problema de clasificación de texto. Los embeddings, representaciones distribuidas y vectoriales de elementos, son un concepto muy común en el mundo del deep learning. Los **word vectors** que hemos visto en clase son una representación en forma de embedding de las palabras.\n",
    "\n",
    "Para realizar este trabajo y sacarle el máximo partido, se recomienda ver los siguientes vídeos de clase:\n",
    "\n",
    "*   Clasificación de texto con Word Vectors.\n",
    "*   Análisis de overfitting con un modelo bag of words.\n",
    "*   Clasificación de texto con RNN\n",
    "\n",
    "Vamos a utilizar el dataset **\"Reuters newswire topics classification\"**, disponible desde Keras de manera similar al dataset de IMDB ([ver documentación](https://keras.io/datasets/#reuters-newswire-topics-classification)).\n",
    "\n",
    "---\n",
    "\n",
    "Se pide:\n",
    "\n",
    "Entrenar un modelo **utilizando embeddings** que consiga un **65% de accuracy en test (55% si usamos RNNs)**, mostrando el entrenamiento y el resultado final.\n",
    " \n",
    "Tenemos varias opciones para entrenar modelos con embeddings. El alumno puede explorar más de una pero es suficiente con conseguir un modelo que alcance la accuracy requerida:\n",
    "\n",
    "*   Utilizar una **media de embeddings** al estilo de lo visto en el vídeo *Clasificación de texto con Word Vectors*\n",
    "*   Utilizar una **CNN** sobre una secuencia de word vectors. Aquí necesitamos cambiar un poco la idea de convolución para actuar sobre sequencias de vectores. Keras incluye una [Convolución en 1D](https://keras.io/layers/convolutional/#conv1d) que puede ser utilizada en este caso, con un ejemplo de uso en la documentación. Una forma de hacer funcionar este esquema sería utilizar la convolución en 1D + max pooling.\n",
    "*  Utilizar una **RNN** sobre una secuencia de word vectors, al estilo de lo visto en el vídeo *Clasificación de texto con RNN*. Para este problema es un poco complicado conseguir un buen modelo con RNNs, y además es más difícil experimentar ya que las redes recurrentes son modelos lentos de entrenar. Por eso, es suficiente con alcanzar un 55% de accuracy si optamos por utilizar un modelo de este estilo. Un buen consejo es emplear una red recurrente bidireccional como se ve en el vídeo *Clasificación de texto con RNN*.\n",
    "\n",
    "\n",
    "\n",
    "---\n",
    "\n",
    "Dos hiperparámetros importantes a elegir en el modelo son la **longitud de las secuencias de texto** y el **tamaño del vocabulario** para los embeddings. Podéis experimentar con ambos, o utilizar los mismos que se usan en los vídeos. Nótese que, al cortar todas las secuencias para que tengan el mismo tamaño, podríamos estar perdiendo mucho texto si elegimos un tamaño de secuencia demasiado pequeño. Igualmente, si las hacemos muy largas necesitaremos más tiempo para entrenar nuestros modelos. Una buena idea consiste en explorar los datos para ver cómo suelen ser de largos los textos y encontrar un buen trade-off para el tamaño de al secuencia.\n",
    "\n",
    "\n",
    "\n",
    "---\n",
    "\n",
    "Los embeddings que hemos visto en los vídeos se entrenan junto al modelo.  Una técnica frecuente es inicializar estos embeddings con word-vectors pre-entrenados en un gran corpus de texto, como hemos visto en clase. Esto puede ayudar ya que nuestro modelo empieza con unos embeddings que ya encapsulan significado. Si bien no es necesario para esta práctica, podéis ver cómo usar esta técnica [en el siguiente tutorial](https://blog.keras.io/using-pre-trained-word-embeddings-in-a-keras-model.html).\n",
    "\n",
    "\n"
   ]
  },
  {
   "cell_type": "markdown",
   "metadata": {},
   "source": [
    "# Importamos Librerias para todo el trabajo"
   ]
  },
  {
   "cell_type": "code",
   "execution_count": 2,
   "metadata": {},
   "outputs": [
    {
     "name": "stderr",
     "output_type": "stream",
     "text": [
      "Using TensorFlow backend.\n"
     ]
    }
   ],
   "source": [
    "import numpy as np\n",
    "from matplotlib import pyplot as plt\n",
    "from collections import Counter\n",
    "import keras\n",
    "from keras.datasets import imdb"
   ]
  },
  {
   "cell_type": "markdown",
   "metadata": {},
   "source": [
    "# Bajamos y armamos el DataSet"
   ]
  },
  {
   "cell_type": "code",
   "execution_count": 30,
   "metadata": {
    "colab": {},
    "colab_type": "code",
    "id": "2ew7HTbPpCJH"
   },
   "outputs": [],
   "source": [
    "## Bajamos el IMDB dataset y armamos el dataset\n",
    "\n",
    "NUM_WORDS=1000 # Cantidad de palabras a utilizar\n",
    "INDEX_FROM=3   # offset para las primeras palabras\n",
    "\n",
    "(x_train, y_train), (x_test, y_test) = imdb.load_data(path=\"imdb.npz\",\n",
    "                                                      num_words=NUM_WORDS,\n",
    "                                                      skip_top=0,\n",
    "                                                      maxlen=None,\n",
    "                                                      seed=113,\n",
    "                                                      start_char=1,\n",
    "                                                      oov_char=2,\n",
    "                                                      index_from=INDEX_FROM)\n",
    "\n",
    "word_to_id = keras.datasets.imdb.get_word_index()\n",
    "word_to_id = {k:(v+INDEX_FROM) for k,v in word_to_id.items()}\n",
    "\n",
    "word_to_id[\"<PAD>\"]   = 0\n",
    "word_to_id[\"<START>\"] = 1\n",
    "word_to_id[\"<UNK>\"]   = 2\n",
    "\n",
    "id_to_word = {value:key for key,value in word_to_id.items()}\n",
    "\n",
    "ds_trn = {'input': x_train,\n",
    "          'target': y_train}\n",
    "\n",
    "ds_tst = {'input':  x_test,\n",
    "          'target': y_test}"
   ]
  },
  {
   "cell_type": "markdown",
   "metadata": {},
   "source": [
    "# Visualizamos el dataset"
   ]
  },
  {
   "cell_type": "code",
   "execution_count": 83,
   "metadata": {
    "scrolled": false
   },
   "outputs": [
    {
     "name": "stdout",
     "output_type": "stream",
     "text": [
      " - Datos TRAIN:   input_shape=(25000,) target_shape=(25000,)\n",
      " - Datos TEST :   input_shape=(25000,) target_shape=(25000,)\n"
     ]
    },
    {
     "data": {
      "image/png": "[encoded data removed]",
      "text/plain": [
       "<matplotlib.figure.Figure at 0x3ba83f60>"
      ]
     },
     "metadata": {
      "needs_background": "light"
     },
     "output_type": "display_data"
    }
   ],
   "source": [
    "# Mostramos el contenido\n",
    "print(' - Datos TRAIN:   input_shape={} target_shape={}'.format(ds_trn['input'].shape, ds_trn['target'].shape))\n",
    "print(' - Datos TEST :   input_shape={} target_shape={}'.format(ds_tst['input'].shape, ds_tst['target'].shape))\n",
    "\n",
    "len_v = []\n",
    "freq_c = Counter()\n",
    "for ds in [ds_trn['input'], ds_tst['input']]:\n",
    "    for v in ds:\n",
    "        len_v.append( len(v) )\n",
    "        w_id_v, count_v = np.unique(v, return_counts=True)\n",
    "        for w_id, count in zip(w_id_v, count_v):\n",
    "            freq_c[w_id] += count\n",
    "            s\n",
    "len_v  = np.array(len_v)\n",
    "freq_a = np.array( sorted( freq_c.items() ), dtype=np.float)\n",
    "freq_a[:,1] = freq_a[:,1]/freq_a[:,1].sum()\n",
    "\n",
    "\n",
    "\n",
    "f,axes = plt.subplots(2,1, figsize=(15,10))\n",
    "\n",
    "ax = axes[0]\n",
    "ax.hist(len_v, bins=150, normed=True, range=(0,1200))\n",
    "ax.set_xlabel('Longitud de review (words)')\n",
    "ax.set_ylabel('Frecuencia')\n",
    "\n",
    "\n",
    "ax = axes[1]\n",
    "ax.bar(freq_a[3:,0], freq_a[3:,1])\n",
    "ax.set_xlabel('Id de la palabra (word_id > 3)')\n",
    "ax.set_ylabel('Frecuencia')\n",
    "\n",
    "plt.show()\n"
   ]
  },
  {
   "cell_type": "markdown",
   "metadata": {},
   "source": [
    "## Comentarios:\n",
    "- Se cargó el dataset de IMDB con las 1000 palabras de mayor recuencia\n",
    "- El dataset de train y test cuenta con 25000 reviews cada uno.\n",
    "- De la gráfica de la distribución de longitud de review, podemos ver que al elegir una longitud de secuencia mayores que 400 palabras, conservamos la mayoría de los comentarios completos. Para 400 palabras conservamos el 86% de las secuencuas completas. Para 600 conservamos el 95% de las secuencias completas.\n",
    "- La grafica de frecuencia de palabras nos muestra que la elección de las 1000 palabras más relevantes deja una cola en la distribución de frecuencias de palabras muy pequeña (< 9.93e-05).\n",
    "- Se agregaron 3 ids especiales **< PAD >** para completar las secuencias cortas, **< UNK >** para palabras desconocidas de menor frecuenca que no fueron cargadas del dataset, y **< START >** para marcar el inicio de una nueva review."
   ]
  },
  {
   "cell_type": "code",
   "execution_count": 87,
   "metadata": {},
   "outputs": [
    {
     "data": {
      "text/plain": [
       "0.9506"
      ]
     },
     "execution_count": 87,
     "metadata": {},
     "output_type": "execute_result"
    }
   ],
   "source": [
    "(len_v < 600).mean()"
   ]
  },
  {
   "cell_type": "code",
   "execution_count": 35,
   "metadata": {
    "scrolled": true
   },
   "outputs": [
    {
     "data": {
      "text/plain": [
       "array([6, 0], dtype=int64)"
      ]
     },
     "execution_count": 35,
     "metadata": {},
     "output_type": "execute_result"
    }
   ],
   "source": [
    "freq_a[4]"
   ]
  },
  {
   "cell_type": "code",
   "execution_count": 16,
   "metadata": {},
   "outputs": [
    {
     "data": {
      "text/plain": [
       "87050"
      ]
     },
     "execution_count": 16,
     "metadata": {},
     "output_type": "execute_result"
    }
   ],
   "source": [
    "freq_c[20]"
   ]
  },
  {
   "cell_type": "code",
   "execution_count": null,
   "metadata": {},
   "outputs": [],
   "source": []
  }
 ],
 "metadata": {
  "accelerator": "GPU",
  "colab": {
   "collapsed_sections": [],
   "name": "Trabajo 3",
   "provenance": [],
   "version": "0.3.2"
  },
  "kernelspec": {
   "display_name": "Python 3",
   "language": "python",
   "name": "python3"
  },
  "language_info": {
   "codemirror_mode": {
    "name": "ipython",
    "version": 3
   },
   "file_extension": ".py",
   "mimetype": "text/x-python",
   "name": "python",
   "nbconvert_exporter": "python",
   "pygments_lexer": "ipython3",
   "version": "3.6.2"
  }
 },
 "nbformat": 4,
 "nbformat_minor": 1
}
