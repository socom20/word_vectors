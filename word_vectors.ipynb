{
 "cells": [
  {
   "cell_type": "markdown",
   "metadata": {
    "colab_type": "text",
    "id": "Ic4_occAAiAT"
   },
   "source": [
    "# Word Vectors\n",
    "\n",
    "## Sistemas Cognitivos Artificiales - 03/06/19"
   ]
  },
  {
   "cell_type": "markdown",
   "metadata": {
    "colab_type": "text",
    "id": "Eg62Pmz3o83v"
   },
   "source": [
    "En este trabajo, utilizaremos **embeddings** para resolver un problema de clasificación de texto. Los embeddings, representaciones distribuidas y vectoriales de elementos, son un concepto muy común en el mundo del deep learning. Los **word vectors** que hemos visto en clase son una representación en forma de embedding de las palabras.\n",
    "\n",
    "Para realizar este trabajo y sacarle el máximo partido, se recomienda ver los siguientes vídeos de clase:\n",
    "\n",
    "*   Clasificación de texto con Word Vectors.\n",
    "*   Análisis de overfitting con un modelo bag of words.\n",
    "*   Clasificación de texto con RNN\n",
    "\n",
    "Vamos a utilizar el dataset **\"Reuters newswire topics classification\"**, disponible desde Keras de manera similar al dataset de IMDB ([ver documentación](https://keras.io/datasets/#reuters-newswire-topics-classification)).\n",
    "\n",
    "---\n",
    "\n",
    "Se pide:\n",
    "\n",
    "Entrenar un modelo **utilizando embeddings** que consiga un **65% de accuracy en test (55% si usamos RNNs)**, mostrando el entrenamiento y el resultado final.\n",
    " \n",
    "Tenemos varias opciones para entrenar modelos con embeddings. El alumno puede explorar más de una pero es suficiente con conseguir un modelo que alcance la accuracy requerida:\n",
    "\n",
    "*   Utilizar una **media de embeddings** al estilo de lo visto en el vídeo *Clasificación de texto con Word Vectors*\n",
    "*   Utilizar una **CNN** sobre una secuencia de word vectors. Aquí necesitamos cambiar un poco la idea de convolución para actuar sobre sequencias de vectores. Keras incluye una [Convolución en 1D](https://keras.io/layers/convolutional/#conv1d) que puede ser utilizada en este caso, con un ejemplo de uso en la documentación. Una forma de hacer funcionar este esquema sería utilizar la convolución en 1D + max pooling.\n",
    "*  Utilizar una **RNN** sobre una secuencia de word vectors, al estilo de lo visto en el vídeo *Clasificación de texto con RNN*. Para este problema es un poco complicado conseguir un buen modelo con RNNs, y además es más difícil experimentar ya que las redes recurrentes son modelos lentos de entrenar. Por eso, es suficiente con alcanzar un 55% de accuracy si optamos por utilizar un modelo de este estilo. Un buen consejo es emplear una red recurrente bidireccional como se ve en el vídeo *Clasificación de texto con RNN*.\n",
    "\n",
    "\n",
    "\n",
    "---\n",
    "\n",
    "Dos hiperparámetros importantes a elegir en el modelo son la **longitud de las secuencias de texto** y el **tamaño del vocabulario** para los embeddings. Podéis experimentar con ambos, o utilizar los mismos que se usan en los vídeos. Nótese que, al cortar todas las secuencias para que tengan el mismo tamaño, podríamos estar perdiendo mucho texto si elegimos un tamaño de secuencia demasiado pequeño. Igualmente, si las hacemos muy largas necesitaremos más tiempo para entrenar nuestros modelos. Una buena idea consiste en explorar los datos para ver cómo suelen ser de largos los textos y encontrar un buen trade-off para el tamaño de al secuencia.\n",
    "\n",
    "\n",
    "\n",
    "---\n",
    "\n",
    "Los embeddings que hemos visto en los vídeos se entrenan junto al modelo.  Una técnica frecuente es inicializar estos embeddings con word-vectors pre-entrenados en un gran corpus de texto, como hemos visto en clase. Esto puede ayudar ya que nuestro modelo empieza con unos embeddings que ya encapsulan significado. Si bien no es necesario para esta práctica, podéis ver cómo usar esta técnica [en el siguiente tutorial](https://blog.keras.io/using-pre-trained-word-embeddings-in-a-keras-model.html).\n",
    "\n",
    "\n"
   ]
  },
  {
   "cell_type": "markdown",
   "metadata": {},
   "source": [
    "# Importamos Librerias para todo el trabajo"
   ]
  },
  {
   "cell_type": "code",
   "execution_count": 1,
   "metadata": {},
   "outputs": [
    {
     "name": "stderr",
     "output_type": "stream",
     "text": [
      "Using TensorFlow backend.\n"
     ]
    }
   ],
   "source": [
    "import os, sys\n",
    "import numpy as np\n",
    "from matplotlib import pyplot as plt\n",
    "from collections import Counter\n",
    "import keras\n",
    "import keras.datasets\n",
    "\n",
    "from sklearn.utils import class_weight as calc_class_weight"
   ]
  },
  {
   "cell_type": "markdown",
   "metadata": {},
   "source": [
    "# Bajamos y armamos el DataSet"
   ]
  },
  {
   "cell_type": "code",
   "execution_count": 2,
   "metadata": {
    "colab": {},
    "colab_type": "code",
    "id": "2ew7HTbPpCJH"
   },
   "outputs": [
    {
     "name": "stdout",
     "output_type": "stream",
     "text": [
      "Downloading data from https://s3.amazonaws.com/text-datasets/reuters.npz\n",
      "2113536/2110848 [==============================] - 6s 3us/step\n",
      "Downloading data from https://s3.amazonaws.com/text-datasets/reuters_word_index.json\n",
      "557056/550378 [==============================] - 4s 8us/step\n"
     ]
    }
   ],
   "source": [
    "## Bajamos el dataset de Reuters y acondicionamos los ids de las palabras\n",
    "\n",
    "NUM_WORDS  = 5000 # Cantidad de palabras a utilizar\n",
    "INDEX_FROM = 3    # Offset para los primeros ids de palabras\n",
    "\n",
    "\n",
    "if False:\n",
    "    # Si queremos el ds IMDB\n",
    "    (x_train, y_train), (x_test, y_test) = keras.datasets.imdb.load_data( path=\"imdb.npz\",\n",
    "                                                                          num_words=NUM_WORDS,\n",
    "                                                                          skip_top=0,\n",
    "                                                                          maxlen=None,\n",
    "                                                                          seed=113,\n",
    "                                                                          start_char=1,\n",
    "                                                                          oov_char=2,\n",
    "                                                                          index_from=INDEX_FROM)\n",
    "    word_to_id = keras.datasets.imdb.get_word_index()                                \n",
    "else:\n",
    "    # Si queremos el ds Reuters\n",
    "    (x_train, y_train), (x_test, y_test) = keras.datasets.reuters.load_data(path=\"reuters.npz\",\n",
    "                                                                            num_words=NUM_WORDS,\n",
    "                                                                            skip_top=0,\n",
    "                                                                            test_split=0.2,\n",
    "                                                                            maxlen=None,\n",
    "                                                                            seed=113,\n",
    "                                                                            start_char=1,  # Son los \"<START>\"\n",
    "                                                                            oov_char=2,    # Son los \"<UNK>\"\n",
    "                                                                            index_from=INDEX_FROM)\n",
    "    word_to_id = keras.datasets.reuters.get_word_index()\n",
    "\n",
    "\n",
    "# Construyo los dicts para pasar de id a word y viceversa\n",
    "word_to_id = {k:(v+INDEX_FROM) for k,v in word_to_id.items()}\n",
    "\n",
    "word_to_id[\"<PAD>\"]   = 0\n",
    "word_to_id[\"<START>\"] = 1\n",
    "word_to_id[\"<UNK>\"]   = 2\n",
    "\n",
    "id_to_word = {value:key for key,value in word_to_id.items()}\n",
    "\n",
    "\n",
    "# Armo los datasets, aún las secuencias no están recortadas no padeadas\n",
    "ds_trn = {'input': x_train,\n",
    "          'target': y_train}\n",
    "\n",
    "ds_tst = {'input':  x_test,\n",
    "          'target': y_test}\n",
    "\n",
    "\n",
    "NUM_CLASSES   = y_train.max() + 1"
   ]
  },
  {
   "cell_type": "markdown",
   "metadata": {},
   "source": [
    "# Visualizamos el dataset"
   ]
  },
  {
   "cell_type": "code",
   "execution_count": 3,
   "metadata": {
    "scrolled": false
   },
   "outputs": [
    {
     "name": "stdout",
     "output_type": "stream",
     "text": [
      " - Datos TRAIN:   input_shape=(8982,) target_shape=(8982,)\n",
      " - Datos TEST :   input_shape=(2246,) target_shape=(2246,)\n",
      " - Cantidad de clases: 46\n",
      " - Ejemplo de Topic leido: <START> <UNK> <UNK> said as a result of its december acquisition of space co it expects earnings per share in 1987 of 1 15 to 1 30 dlrs per share up from 70 cts in 1986 the company said pretax net should rise to nine to 10 mln dlrs from six mln dlrs in 1986 and rental operation revenues to 19 to 22 mln dlrs from 12 5 mln dlrs it said cash flow per share this year should be 2 50 to three dlrs reuter 3\n",
      " - Clase asignada: 3\n"
     ]
    },
    {
     "data": {
      "image/png": "[encoded data removed]",
      "text/plain": [
       "<matplotlib.figure.Figure at 0x103c46a0>"
      ]
     },
     "metadata": {
      "needs_background": "light"
     },
     "output_type": "display_data"
    }
   ],
   "source": [
    "# Mostramos el contenido\n",
    "print(' - Datos TRAIN:   input_shape={} target_shape={}'.format(ds_trn['input'].shape, ds_trn['target'].shape))\n",
    "print(' - Datos TEST :   input_shape={} target_shape={}'.format(ds_tst['input'].shape, ds_tst['target'].shape))\n",
    "print(\" - Cantidad de clases: {}\".format(NUM_CLASSES))\n",
    "\n",
    "# Mostramos una secuencia\n",
    "print(' - Ejemplo de Topic leido:', ' '.join( [id_to_word[i] for i in ds_trn['input'][0]]) )\n",
    "print(' - Clase asignada:', ds_trn['target'][0])\n",
    "\n",
    "\n",
    "# Gráficas\n",
    "len_v = []\n",
    "freq_c = Counter()\n",
    "for ds in [ds_trn['input'], ds_tst['input']]:\n",
    "    for v in ds:\n",
    "        len_v.append( len(v) )\n",
    "        w_id_v, count_v = np.unique(v, return_counts=True)\n",
    "        for w_id, count in zip(w_id_v, count_v):\n",
    "            freq_c[w_id] += count\n",
    "            \n",
    "len_v  = np.array(len_v)\n",
    "freq_a = np.array( sorted( freq_c.items() ), dtype=np.float)\n",
    "freq_a[:,1] = freq_a[:,1]/freq_a[:,1].sum()\n",
    "\n",
    "\n",
    "\n",
    "f,axes = plt.subplots(2,1, figsize=(15,10))\n",
    "\n",
    "ax = axes[0]\n",
    "ax.hist(len_v, bins=150, normed=True, range=(0,NUM_WORDS))\n",
    "ax.set_xlabel('Longitud de topic (words)')\n",
    "ax.set_ylabel('Frecuencia')\n",
    "\n",
    "\n",
    "ax = axes[1]\n",
    "ax.bar(freq_a[:,0], freq_a[:,1], 1.0)\n",
    "ax.set_xlabel('Id de la palabra')\n",
    "ax.set_ylabel('Frecuencia')\n",
    "ax.set_xlim((0,500))\n",
    "\n",
    "plt.show()"
   ]
  },
  {
   "cell_type": "markdown",
   "metadata": {},
   "source": [
    "## Comentarios:\n",
    "- Se cargó el dataset de Reuters con las 5000 palabras de mayor frecuencia\n",
    "- El dataset de train cuenta con 8982 topics y el de dataset test con 2246 (repartición 80% y 20%).\n",
    "- De la gráfica de la distribución de longitud de Temas de Noticias, podemos ver que al elegir una longitud de secuencia mayores que 300 palabras, conservamos la mayoría de los comentarios completos. Para 300 palabras conservamos el 88.8% de las secuencias completas. Para 400 conservamos el 93% de las secuencias completas. Al entrenar el modelo se elegirán estos valores como longitud de secuencias.\n",
    "- La grafica de frecuencia de palabras nos muestra que la elección de las 5000 palabras más relevantes deja una cola en la distribución de frecuencias de palabras muy pequeña (freq < 1.34237525e-05). Se eligirá este corte como suficiente para tener una buena base de palabras.\n",
    "- Se agregaron 3 ids especiales **< PAD >** para completar las secuencias cortas, **< UNK >** para palabras desconocidas de menor frecuencia que no fueron cargadas del dataset, y **< START >** para marcar el inicio de una nueva topic.\n",
    "- También se puede ver como los ids de las palabras están ordenados por frecuencia de aparición de palabra."
   ]
  },
  {
   "cell_type": "markdown",
   "metadata": {},
   "source": [
    "# Recortamos y paddeamos las reviews del dataset\n",
    "\n",
    "En esta etapa recorto los Topics del dataset para que el modelo tenga de entrada una dimensión constante. También al target lo transformo en una one-hot-verctor de dimensión 46 para poder entrenar el clasificador."
   ]
  },
  {
   "cell_type": "code",
   "execution_count": 5,
   "metadata": {},
   "outputs": [
    {
     "name": "stdout",
     "output_type": "stream",
     "text": [
      " - Secuencia con pad: <START> <UNK> <UNK> said as a result of its december acquisition of space co it expects earnings per share in 1987 of 1 15 to 1 30 dlrs per share up from 70 cts in 1986 the company said pretax net should rise to nine to 10 mln dlrs from six mln dlrs in 1986 and rental operation revenues to 19 to 22 mln dlrs from 12 5 mln dlrs it said cash flow per share this year should be 2 50 to three dlrs reuter 3 <PAD> <PAD> <PAD> <PAD> <PAD> <PAD> <PAD> <PAD> <PAD> <PAD> <PAD> <PAD> <PAD> <PAD> <PAD> <PAD> <PAD> <PAD> <PAD> <PAD> <PAD> <PAD> <PAD> <PAD> <PAD> <PAD> <PAD> <PAD> <PAD> <PAD> <PAD> <PAD> <PAD> <PAD> <PAD> <PAD> <PAD> <PAD> <PAD> <PAD> <PAD> <PAD> <PAD> <PAD> <PAD> <PAD> <PAD> <PAD> <PAD> <PAD> <PAD> <PAD> <PAD> <PAD> <PAD> <PAD> <PAD> <PAD> <PAD> <PAD> <PAD> <PAD> <PAD> <PAD> <PAD> <PAD> <PAD> <PAD> <PAD> <PAD> <PAD> <PAD> <PAD> <PAD> <PAD> <PAD> <PAD> <PAD> <PAD> <PAD> <PAD> <PAD> <PAD> <PAD> <PAD> <PAD> <PAD> <PAD> <PAD> <PAD> <PAD> <PAD> <PAD> <PAD> <PAD> <PAD> <PAD> <PAD> <PAD> <PAD> <PAD> <PAD> <PAD> <PAD> <PAD> <PAD> <PAD> <PAD> <PAD> <PAD> <PAD> <PAD> <PAD> <PAD> <PAD> <PAD> <PAD> <PAD> <PAD> <PAD> <PAD> <PAD> <PAD> <PAD> <PAD> <PAD> <PAD> <PAD> <PAD> <PAD> <PAD> <PAD> <PAD> <PAD> <PAD> <PAD> <PAD> <PAD> <PAD> <PAD> <PAD> <PAD> <PAD> <PAD> <PAD> <PAD> <PAD> <PAD> <PAD> <PAD> <PAD> <PAD> <PAD> <PAD> <PAD> <PAD> <PAD> <PAD> <PAD> <PAD> <PAD> <PAD> <PAD> <PAD> <PAD> <PAD> <PAD> <PAD> <PAD> <PAD> <PAD> <PAD> <PAD> <PAD> <PAD> <PAD> <PAD> <PAD> <PAD> <PAD> <PAD> <PAD> <PAD> <PAD> <PAD> <PAD> <PAD> <PAD> <PAD> <PAD> <PAD> <PAD> <PAD> <PAD> <PAD> <PAD> <PAD> <PAD> <PAD> <PAD> <PAD> <PAD> <PAD> <PAD> <PAD> <PAD> <PAD> <PAD> <PAD> <PAD> <PAD> <PAD> <PAD>\n",
      " - Target_shape: (8982, 46)\n"
     ]
    },
    {
     "data": {
      "image/png": "[encoded data removed]",
      "text/plain": [
       "<matplotlib.figure.Figure at 0xdcc3f28>"
      ]
     },
     "metadata": {
      "needs_background": "light"
     },
     "output_type": "display_data"
    }
   ],
   "source": [
    "MAX_SEQ_LEN = 300\n",
    "\n",
    "for ds in [ds_trn, ds_tst]:\n",
    "    ds['input_pad'] = keras.preprocessing.sequence.pad_sequences(ds['input'],\n",
    "                                                             maxlen=MAX_SEQ_LEN,\n",
    "                                                             padding='post',\n",
    "                                                             value=0)\n",
    "    \n",
    "    ds['target_oh'] = keras.utils.to_categorical(ds['target'])\n",
    "    \n",
    "print(' - Secuencia con pad:', ' '.join( [id_to_word[i] for i in ds_trn['input_pad'][0]]) )\n",
    "print(' - Target_shape:',ds_trn['target_oh'].shape )\n",
    "\n",
    "\n",
    "\n",
    "f, axes = plt.subplots(1,1, figsize=(15,10))\n",
    "\n",
    "ax = axes\n",
    "ax.plot( ds_trn['target_oh'].mean(axis=0), '-o')\n",
    "ax.set_xlabel('Clase Target')\n",
    "ax.set_ylabel('Frecuencia')\n",
    "ax.set_ylim((0,0.5))\n",
    "plt.show()"
   ]
  },
  {
   "cell_type": "markdown",
   "metadata": {},
   "source": [
    "# Comentario\n",
    "- Se puede ver una secuencia padeada con ids **< PAD >**, para lograr la longitud MAX_SEQ_LEN.\n",
    "- Es la distribución de clases se observa que las clases, 3 y 4 son las más probables. Esto supone un desbalance importante, por lo que se elige utilizar sample_weights para entrenar el modelo."
   ]
  },
  {
   "cell_type": "markdown",
   "metadata": {},
   "source": [
    " # Funciones para entrenar y para mostrar resultados"
   ]
  },
  {
   "cell_type": "code",
   "execution_count": 7,
   "metadata": {},
   "outputs": [],
   "source": [
    "# Función para entrenar modelos\n",
    "def train_model(model,\n",
    "                batch_size=32,\n",
    "                n_epochs=1000,\n",
    "                validation_split=0.2,\n",
    "                use_class_weights=False,\n",
    "                model_name='modelo_conv.kmodel',\n",
    "                \n",
    "                do_save=False,\n",
    "                log_dir='./log_conv',\n",
    "                early_stopping_monitor='val_loss',\n",
    "                early_stopping_patience = 10,\n",
    "                tensorboard=False,\n",
    "                initial_epoch = 0):\n",
    "\n",
    "    \n",
    "    if (tensorboard or do_save) and not os.path.exists(log_dir):\n",
    "        print('Creando carpeta:', log_dir)\n",
    "        os.mkdir(log_dir)\n",
    "    \n",
    "    callBack_v = []    \n",
    "    if tensorboard:\n",
    "        tbCallBack = keras.callbacks.TensorBoard(log_dir=log_dir,\n",
    "                                                 histogram_freq=0,\n",
    "                                                 write_graph=True,\n",
    "                                                 write_grads=False,\n",
    "                                                 batch_size=32,\n",
    "                                                 write_images=False)\n",
    "        \n",
    "        callBack_v += [tbCallBack]\n",
    "        \n",
    "    if early_stopping_monitor != '':\n",
    "        esCallBack = keras.callbacks.EarlyStopping(monitor=early_stopping_monitor,\n",
    "                                                   min_delta=0,\n",
    "                                                   patience=early_stopping_patience,\n",
    "                                                   verbose=1,\n",
    "                                                   mode='auto',\n",
    "                                                   restore_best_weights=True)\n",
    "        callBack_v += [esCallBack]\n",
    "\n",
    "    if use_class_weights:\n",
    "        class_weights = calc_class_weight.compute_class_weight('balanced', np.unique(ds_trn['target']), ds_trn['target'])\n",
    "        print('Usando Class_weights:')\n",
    "        print(class_weights)\n",
    "    else:\n",
    "        class_weights = None\n",
    "\n",
    "\n",
    "\n",
    "    hist = model.fit(ds_trn['input_pad'], ds_trn['target_oh'],\n",
    "                     initial_epoch=initial_epoch,\n",
    "                     validation_split=validation_split,\n",
    "                     epochs=n_epochs,\n",
    "                     callbacks=callBack_v,\n",
    "                     class_weight=class_weights)\n",
    "    \n",
    "    if do_save:\n",
    "        model.save(log_dir + '/' + model_name)\n",
    "    \n",
    "    return hist\n",
    "\n",
    "# Función graficar el entrenamiento de un modelo\n",
    "def plt_train(hist, model_name='Conv1D'):\n",
    "    f, axes = plt.subplots(2,1, sharex=True, figsize=(12,7))\n",
    "    \n",
    "    f.suptitle('Resultados de entrenamiento para el modelo \"{}\"'.format(model_name), fontsize=20)\n",
    "    ax = axes[0]\n",
    "    ax.plot(hist.history['acc'], 'r-o', label='acc_trn')\n",
    "    ax.plot(hist.history['val_acc'], 'b-o', label='acc_val')\n",
    "    ax.plot([0, len(hist.history['acc'])-1], [0.65, 0.65], 'k--')\n",
    "    ax.set_xlim([0, len(hist.history['acc'])-1])\n",
    "    ax.set_ylim([0, 1.0])\n",
    "    ax.set_xlabel('epoch')\n",
    "    ax.set_ylabel('accuracy')\n",
    "    ax.legend()\n",
    "\n",
    "    ax = axes[1]\n",
    "    ax.plot(hist.history['loss'], 'r-o', label='loss_trn')\n",
    "    ax.plot(hist.history['val_loss'], 'b-o', label='loss_val')\n",
    "    ax.set_xlabel('epoch')\n",
    "    ax.set_ylabel('categorical_crossentropy')\n",
    "    ax.legend()\n",
    "    plt.show()\n",
    "    \n",
    "    return None\n",
    "\n",
    "\n",
    "# Función mostrar reslutados de un dataset\n",
    "def calc_test_stats(model, ds, model_name='TEST Conv1D', verbose=True):\n",
    "    loss, acc = model.evaluate(ds['input_pad'], ds['target_oh'], verbose=False)\n",
    "    \n",
    "    if verbose:\n",
    "        print(' Resultados para el modelo \"{}\":'.format(model_name))\n",
    "        print('  -  Loss: {:5.03f}  -  Accuracy: {:5.03f}'.format(loss, acc) )\n",
    "        \n",
    "    return loss, acc\n"
   ]
  },
  {
   "cell_type": "markdown",
   "metadata": {},
   "source": [
    "# Construcción y entrenamiento de los modelos"
   ]
  },
  {
   "cell_type": "markdown",
   "metadata": {},
   "source": [
    "## Modelo convolucional 1D\n",
    "En esta sección se construye un modelo conv1D. Se utiliza tamaño de kernels de 5 para tratar de extraer features de este tamaño. Se utiliza dropout como regularizador, y activaciones relu con softmat en la capa final. También se añade maxpolling a la salida de las convoluciones para reducir la cantidad de salidas de las capas."
   ]
  },
  {
   "cell_type": "code",
   "execution_count": 12,
   "metadata": {
    "scrolled": false
   },
   "outputs": [
    {
     "name": "stdout",
     "output_type": "stream",
     "text": [
      "_________________________________________________________________\n",
      "Layer (type)                 Output Shape              Param #   \n",
      "=================================================================\n",
      "input_1 (InputLayer)         (None, 300)               0         \n",
      "_________________________________________________________________\n",
      "embedding_1 (Embedding)      (None, 300, 200)          1000000   \n",
      "_________________________________________________________________\n",
      "conv1d_1 (Conv1D)            (None, 296, 128)          128128    \n",
      "_________________________________________________________________\n",
      "max_pooling1d_1 (MaxPooling1 (None, 59, 128)           0         \n",
      "_________________________________________________________________\n",
      "conv1d_2 (Conv1D)            (None, 55, 128)           82048     \n",
      "_________________________________________________________________\n",
      "max_pooling1d_2 (MaxPooling1 (None, 11, 128)           0         \n",
      "_________________________________________________________________\n",
      "dropout_1 (Dropout)          (None, 11, 128)           0         \n",
      "_________________________________________________________________\n",
      "flatten_1 (Flatten)          (None, 1408)              0         \n",
      "_________________________________________________________________\n",
      "dense_1 (Dense)              (None, 256)               360704    \n",
      "_________________________________________________________________\n",
      "dense_2 (Dense)              (None, 46)                11822     \n",
      "=================================================================\n",
      "Total params: 1,582,702\n",
      "Trainable params: 1,582,702\n",
      "Non-trainable params: 0\n",
      "_________________________________________________________________\n"
     ]
    }
   ],
   "source": [
    "def build_model(input_shape=(MAX_SEQ_LEN,), n_output=NUM_CLASSES, n_words=NUM_WORDS, embedding_size=200, verbose=True):\n",
    "    \n",
    "    # Agrego una layer de entrada.\n",
    "    sequence_input = keras.layers.Input(shape=input_shape, dtype='int32')\n",
    "    \n",
    "    # Agrego el embedding\n",
    "    embedded_sequences = keras.layers.Embedding(input_dim=n_words,\n",
    "                                                output_dim=embedding_size,\n",
    "                                                input_length=input_shape[0],\n",
    "                                                \n",
    "                                                embeddings_initializer='uniform',\n",
    "                                                embeddings_regularizer=None,\n",
    "                                                activity_regularizer=None,\n",
    "                                                embeddings_constraint=None,\n",
    "                                                mask_zero=False)(sequence_input)\n",
    "    \n",
    "    # Construyo el modelo a partir del embeding resultante.\n",
    "    # Propongo un modelo convolucional 1D con capas de pooling\n",
    "    x = keras.layers.Conv1D(128, 5, activation='relu')(embedded_sequences)\n",
    "    x = keras.layers.MaxPooling1D(5)(x)\n",
    "    \n",
    "#     x = keras.layers.Dropout(0.5)(x)\n",
    "    \n",
    "    x = keras.layers.Conv1D(128, 5, activation='relu')(x)\n",
    "    x = keras.layers.MaxPooling1D(5)(x)\n",
    "    \n",
    "    \n",
    "    # Agrego DropOut\n",
    "    x = keras.layers.Dropout(0.5)(x)\n",
    "    \n",
    "    # Ahora la capa Dense, y armo la salida con una capa softmax\n",
    "    x = keras.layers.Flatten()(x)\n",
    "    x = keras.layers.Dense(256, activation='relu')(x)\n",
    "        \n",
    "    preds = keras.layers.Dense(n_output, activation='softmax')(x)\n",
    "\n",
    "    \n",
    "    model = keras.models.Model(sequence_input, preds)\n",
    "    model.compile(loss='categorical_crossentropy',\n",
    "                  optimizer='adam',\n",
    "                  metrics=['acc'])\n",
    "    \n",
    "    if verbose:\n",
    "        model.summary()\n",
    "    \n",
    "    return model\n",
    "\n",
    "# Reseteo la sesión de tf\n",
    "keras.backend.clear_session()\n",
    "\n",
    "# Creo el modelo convolucional 1D\n",
    "model_conv1d = build_model()"
   ]
  },
  {
   "cell_type": "markdown",
   "metadata": {},
   "source": [
    "## Entreno el modelo\n",
    "Utilizo un 20% de los datos de train para hacer una validación. Entreno el modelo con EarlyStopping mirando **val_acc**. El entrenamiento se reañiza con class_weights."
   ]
  },
  {
   "cell_type": "code",
   "execution_count": 13,
   "metadata": {
    "scrolled": false
   },
   "outputs": [
    {
     "name": "stdout",
     "output_type": "stream",
     "text": [
      "Usando Class_weights:\n",
      "[ 3.55019763  0.45199275  2.6386604   0.06181097  0.10018516 11.4859335\n",
      "  4.06793478 12.20380435  1.40475446  1.93327594  1.57468443  0.5006689\n",
      "  3.98491571  1.13523761  7.51003344  9.76304348  0.43977673  5.00668896\n",
      "  2.95849802  0.35566643  0.72587684  1.9526087  13.0173913   4.76246023\n",
      "  3.14936886  2.12240076  8.13586957 13.0173913   4.06793478 10.27688787\n",
      "  4.33913043  5.00668896  6.10190217 17.75098814  3.90521739 19.52608696\n",
      "  3.98491571 10.27688787 10.27688787  8.13586957  5.42391304  6.50869565\n",
      " 15.02006689  9.29813665 16.27173913 10.84782609]\n",
      "Train on 7185 samples, validate on 1797 samples\n",
      "Epoch 1/1000\n",
      "7185/7185 [==============================] - 2s 228us/step - loss: 1.9356 - acc: 0.5072 - val_loss: 1.5159 - val_acc: 0.6249\n",
      "Epoch 2/1000\n",
      "7185/7185 [==============================] - 1s 183us/step - loss: 1.3609 - acc: 0.6598 - val_loss: 1.2484 - val_acc: 0.6950\n",
      "Epoch 3/1000\n",
      "7185/7185 [==============================] - 1s 184us/step - loss: 1.0200 - acc: 0.7414 - val_loss: 1.1333 - val_acc: 0.7346\n",
      "Epoch 4/1000\n",
      "7185/7185 [==============================] - 1s 182us/step - loss: 0.7686 - acc: 0.8024 - val_loss: 1.1263 - val_acc: 0.7451\n",
      "Epoch 5/1000\n",
      "7185/7185 [==============================] - 1s 178us/step - loss: 0.6201 - acc: 0.8315 - val_loss: 1.1772 - val_acc: 0.7440\n",
      "Epoch 6/1000\n",
      "7185/7185 [==============================] - 1s 184us/step - loss: 0.5021 - acc: 0.8624 - val_loss: 1.2464 - val_acc: 0.7412\n",
      "Epoch 7/1000\n",
      "7185/7185 [==============================] - 1s 184us/step - loss: 0.4066 - acc: 0.8871 - val_loss: 1.4046 - val_acc: 0.7390\n",
      "Epoch 8/1000\n",
      "7185/7185 [==============================] - 1s 185us/step - loss: 0.3521 - acc: 0.9006 - val_loss: 1.3195 - val_acc: 0.7468\n",
      "Epoch 9/1000\n",
      "7185/7185 [==============================] - 1s 183us/step - loss: 0.2823 - acc: 0.9184 - val_loss: 1.3968 - val_acc: 0.7496\n",
      "Epoch 10/1000\n",
      "7185/7185 [==============================] - 1s 180us/step - loss: 0.2610 - acc: 0.9282 - val_loss: 1.3307 - val_acc: 0.7496\n",
      "Epoch 11/1000\n",
      "7185/7185 [==============================] - 1s 182us/step - loss: 0.2214 - acc: 0.9385 - val_loss: 1.4134 - val_acc: 0.7479\n",
      "Epoch 12/1000\n",
      "7185/7185 [==============================] - 1s 180us/step - loss: 0.1946 - acc: 0.9443 - val_loss: 1.4445 - val_acc: 0.7624\n",
      "Epoch 13/1000\n",
      "7185/7185 [==============================] - 1s 179us/step - loss: 0.1882 - acc: 0.9453 - val_loss: 1.4347 - val_acc: 0.7507\n",
      "Epoch 14/1000\n",
      "7185/7185 [==============================] - 1s 184us/step - loss: 0.1698 - acc: 0.9523 - val_loss: 1.4132 - val_acc: 0.7557\n",
      "Epoch 15/1000\n",
      "7185/7185 [==============================] - 1s 179us/step - loss: 0.1550 - acc: 0.9523 - val_loss: 1.5470 - val_acc: 0.7535\n",
      "Epoch 16/1000\n",
      "7185/7185 [==============================] - 1s 180us/step - loss: 0.1432 - acc: 0.9569 - val_loss: 1.5699 - val_acc: 0.7629\n",
      "Epoch 17/1000\n",
      "7185/7185 [==============================] - 1s 183us/step - loss: 0.1418 - acc: 0.9541 - val_loss: 1.5180 - val_acc: 0.7551\n",
      "Epoch 18/1000\n",
      "7185/7185 [==============================] - 1s 178us/step - loss: 0.1399 - acc: 0.9514 - val_loss: 1.6190 - val_acc: 0.7501\n",
      "Epoch 19/1000\n",
      "7185/7185 [==============================] - 1s 180us/step - loss: 0.1482 - acc: 0.9528 - val_loss: 1.6593 - val_acc: 0.7590\n",
      "Epoch 20/1000\n",
      "7185/7185 [==============================] - 1s 183us/step - loss: 0.1406 - acc: 0.9557 - val_loss: 1.6981 - val_acc: 0.7551\n",
      "Epoch 21/1000\n",
      "7185/7185 [==============================] - 1s 182us/step - loss: 0.1349 - acc: 0.9528 - val_loss: 1.6333 - val_acc: 0.7435\n",
      "Epoch 22/1000\n",
      "7185/7185 [==============================] - 1s 182us/step - loss: 0.1256 - acc: 0.9563 - val_loss: 1.7263 - val_acc: 0.7485\n",
      "Epoch 23/1000\n",
      "7185/7185 [==============================] - 1s 181us/step - loss: 0.1228 - acc: 0.9574 - val_loss: 1.6872 - val_acc: 0.7513\n",
      "Epoch 24/1000\n",
      "7185/7185 [==============================] - 1s 181us/step - loss: 0.1176 - acc: 0.9577 - val_loss: 1.7769 - val_acc: 0.7301\n",
      "Restoring model weights from the end of the best epoch\n",
      "Epoch 00024: early stopping\n"
     ]
    },
    {
     "data": {
      "image/png": "[encoded data removed]",
      "text/plain": [
       "<matplotlib.figure.Figure at 0x7fd776351ba8>"
      ]
     },
     "metadata": {
      "needs_background": "light"
     },
     "output_type": "display_data"
    }
   ],
   "source": [
    "hist = train_model(model_conv1d,\n",
    "                   batch_size=32,\n",
    "                   n_epochs=1000,\n",
    "                   validation_split=0.2,\n",
    "                   use_class_weights=True,\n",
    "                   model_name='modelo_conv.kmodel',\n",
    "                \n",
    "                   do_save=True,\n",
    "                   log_dir='./log_conv',\n",
    "                   early_stopping_monitor='val_acc',\n",
    "                   early_stopping_patience = 8,\n",
    "                   tensorboard=False,\n",
    "                   initial_epoch = 0)\n",
    "\n",
    "plt_train(hist, model_name='Conv1D')"
   ]
  },
  {
   "cell_type": "markdown",
   "metadata": {},
   "source": [
    "### Resultados"
   ]
  },
  {
   "cell_type": "code",
   "execution_count": 14,
   "metadata": {
    "scrolled": true
   },
   "outputs": [
    {
     "name": "stdout",
     "output_type": "stream",
     "text": [
      " Resultados para el modelo \"Conv1D TRAIN\":\n",
      "  -  Loss: 0.378  -  Accuracy: 0.930\n",
      " Resultados para el modelo \"Conv1D TEST\":\n",
      "  -  Loss: 1.627  -  Accuracy: 0.744\n"
     ]
    }
   ],
   "source": [
    "_ = calc_test_stats(model_conv1d, ds_trn, model_name='Conv1D TRAIN', verbose=True)\n",
    "_ = calc_test_stats(model_conv1d, ds_tst, model_name='Conv1D TEST' , verbose=True)"
   ]
  },
  {
   "cell_type": "markdown",
   "metadata": {},
   "source": [
    "## Modelo GRU bidireccional\n",
    "En esta sección se plantea un modelo recurrente con unidades GRU en configuración bidireccional. Se utiliza la implementación CUDA, CuDNNGRU para agilizar el entrenamiento del modelo. Además se utiliza dropout como regularizador."
   ]
  },
  {
   "cell_type": "code",
   "execution_count": 21,
   "metadata": {
    "scrolled": false
   },
   "outputs": [
    {
     "name": "stdout",
     "output_type": "stream",
     "text": [
      "_________________________________________________________________\n",
      "Layer (type)                 Output Shape              Param #   \n",
      "=================================================================\n",
      "input_1 (InputLayer)         (None, 300)               0         \n",
      "_________________________________________________________________\n",
      "embedding_1 (Embedding)      (None, 300, 200)          1000000   \n",
      "_________________________________________________________________\n",
      "bidirectional_1 (Bidirection (None, 256)               253440    \n",
      "_________________________________________________________________\n",
      "dropout_1 (Dropout)          (None, 256)               0         \n",
      "_________________________________________________________________\n",
      "dense_1 (Dense)              (None, 128)               32896     \n",
      "_________________________________________________________________\n",
      "dense_2 (Dense)              (None, 128)               16512     \n",
      "_________________________________________________________________\n",
      "dense_3 (Dense)              (None, 46)                5934      \n",
      "=================================================================\n",
      "Total params: 1,308,782\n",
      "Trainable params: 1,308,782\n",
      "Non-trainable params: 0\n",
      "_________________________________________________________________\n"
     ]
    }
   ],
   "source": [
    "def build_model2(input_shape=(MAX_SEQ_LEN,), n_output=NUM_CLASSES, n_words=NUM_WORDS, embedding_size=200, verbose=True):\n",
    "    \n",
    "    # Agrego una layer de entrada.\n",
    "    sequence_input = keras.layers.Input(shape=input_shape, dtype='int32')\n",
    "    \n",
    "    # Agrego el embedding\n",
    "    embedded_sequences = keras.layers.Embedding(input_dim=n_words,\n",
    "                                                output_dim=embedding_size,\n",
    "                                                input_length=input_shape[0],\n",
    "                                                \n",
    "                                                embeddings_initializer='uniform',\n",
    "                                                embeddings_regularizer=None,\n",
    "                                                activity_regularizer=None,\n",
    "                                                embeddings_constraint=None,\n",
    "                                                mask_zero=False)(sequence_input)\n",
    "    \n",
    "    # Construyo el modelo a partir del embeding resultante.\n",
    "    # Propongo un modelo GRU bidireccional\n",
    "    x = keras.layers.Bidirectional(keras.layers.CuDNNGRU(128, return_sequences=False), merge_mode='concat', weights=None)(embedded_sequences)\n",
    "\n",
    "    \n",
    "    x = keras.layers.Dropout(0.5)(x)\n",
    "    \n",
    "    # Ahora la capa Dense, y armo la salida con una capa softmax\n",
    "    x = keras.layers.Dense(128, activation='relu')(x)\n",
    "    \n",
    "    x = keras.layers.Dense(128, activation='relu')(x)\n",
    "        \n",
    "    preds = keras.layers.Dense(n_output, activation='softmax')(x)\n",
    "\n",
    "    model = keras.models.Model(sequence_input, preds)\n",
    "    model.compile(loss='categorical_crossentropy',\n",
    "                  optimizer='adam',\n",
    "                  metrics=['acc'])\n",
    "    \n",
    "    if verbose:\n",
    "        model.summary()\n",
    "    \n",
    "    return model\n",
    "\n",
    "# Reseteo la sesión de tf\n",
    "keras.backend.clear_session()\n",
    "\n",
    "# Creo el modelo convolucional 1D\n",
    "model_gru = build_model2()"
   ]
  },
  {
   "cell_type": "markdown",
   "metadata": {},
   "source": [
    "## Entreno el modelo\n",
    "Utilizo un 20% de los datos de train para hacer una validación. Entreno el modelo con EarlyStopping mirando **val_acc**. El entrenamiento se reañiza con class_weights."
   ]
  },
  {
   "cell_type": "code",
   "execution_count": 22,
   "metadata": {},
   "outputs": [
    {
     "name": "stdout",
     "output_type": "stream",
     "text": [
      "Usando Class_weights:\n",
      "[ 3.55019763  0.45199275  2.6386604   0.06181097  0.10018516 11.4859335\n",
      "  4.06793478 12.20380435  1.40475446  1.93327594  1.57468443  0.5006689\n",
      "  3.98491571  1.13523761  7.51003344  9.76304348  0.43977673  5.00668896\n",
      "  2.95849802  0.35566643  0.72587684  1.9526087  13.0173913   4.76246023\n",
      "  3.14936886  2.12240076  8.13586957 13.0173913   4.06793478 10.27688787\n",
      "  4.33913043  5.00668896  6.10190217 17.75098814  3.90521739 19.52608696\n",
      "  3.98491571 10.27688787 10.27688787  8.13586957  5.42391304  6.50869565\n",
      " 15.02006689  9.29813665 16.27173913 10.84782609]\n",
      "Train on 7185 samples, validate on 1797 samples\n",
      "Epoch 1/1000\n",
      "7185/7185 [==============================] - 6s 783us/step - loss: 1.9614 - acc: 0.5056 - val_loss: 1.6582 - val_acc: 0.5915\n",
      "Epoch 2/1000\n",
      "7185/7185 [==============================] - 5s 716us/step - loss: 1.4334 - acc: 0.6328 - val_loss: 1.4440 - val_acc: 0.6255\n",
      "Epoch 3/1000\n",
      "7185/7185 [==============================] - 5s 738us/step - loss: 1.2071 - acc: 0.6898 - val_loss: 1.3378 - val_acc: 0.6767\n",
      "Epoch 4/1000\n",
      "7185/7185 [==============================] - 5s 718us/step - loss: 1.0549 - acc: 0.7322 - val_loss: 1.3399 - val_acc: 0.6873\n",
      "Epoch 5/1000\n",
      "7185/7185 [==============================] - 5s 717us/step - loss: 0.9361 - acc: 0.7588 - val_loss: 1.3062 - val_acc: 0.6878\n",
      "Epoch 6/1000\n",
      "7185/7185 [==============================] - 5s 737us/step - loss: 0.8193 - acc: 0.7898 - val_loss: 1.2934 - val_acc: 0.7195\n",
      "Epoch 7/1000\n",
      "7185/7185 [==============================] - 5s 718us/step - loss: 0.6973 - acc: 0.8207 - val_loss: 1.3173 - val_acc: 0.7290\n",
      "Epoch 8/1000\n",
      "7185/7185 [==============================] - 5s 719us/step - loss: 0.6069 - acc: 0.8429 - val_loss: 1.3680 - val_acc: 0.7240\n",
      "Epoch 9/1000\n",
      "7185/7185 [==============================] - 5s 742us/step - loss: 0.5317 - acc: 0.8566 - val_loss: 1.3743 - val_acc: 0.7346\n",
      "Epoch 10/1000\n",
      "7185/7185 [==============================] - 5s 716us/step - loss: 0.4640 - acc: 0.8775 - val_loss: 1.3991 - val_acc: 0.7295\n",
      "Epoch 11/1000\n",
      "7185/7185 [==============================] - 5s 710us/step - loss: 0.4141 - acc: 0.8884 - val_loss: 1.4652 - val_acc: 0.7234\n",
      "Epoch 12/1000\n",
      "7185/7185 [==============================] - 5s 736us/step - loss: 0.3870 - acc: 0.8969 - val_loss: 1.4669 - val_acc: 0.7273\n",
      "Epoch 13/1000\n",
      "7185/7185 [==============================] - 5s 719us/step - loss: 0.3444 - acc: 0.9048 - val_loss: 1.5482 - val_acc: 0.7396\n",
      "Epoch 14/1000\n",
      "7185/7185 [==============================] - 5s 716us/step - loss: 0.3064 - acc: 0.9147 - val_loss: 1.6040 - val_acc: 0.7301\n",
      "Epoch 15/1000\n",
      "7185/7185 [==============================] - 5s 735us/step - loss: 0.2859 - acc: 0.9207 - val_loss: 1.6037 - val_acc: 0.7262\n",
      "Epoch 16/1000\n",
      "7185/7185 [==============================] - 5s 714us/step - loss: 0.2638 - acc: 0.9239 - val_loss: 1.6370 - val_acc: 0.7379\n",
      "Epoch 17/1000\n",
      "7185/7185 [==============================] - 5s 717us/step - loss: 0.2400 - acc: 0.9318 - val_loss: 1.6945 - val_acc: 0.7351\n",
      "Epoch 18/1000\n",
      "7185/7185 [==============================] - 5s 729us/step - loss: 0.2256 - acc: 0.9350 - val_loss: 1.6800 - val_acc: 0.7240\n",
      "Restoring model weights from the end of the best epoch\n",
      "Epoch 00018: early stopping\n"
     ]
    },
    {
     "data": {
      "image/png": "[encoded data removed]",
      "text/plain": [
       "<matplotlib.figure.Figure at 0x7fd744177da0>"
      ]
     },
     "metadata": {
      "needs_background": "light"
     },
     "output_type": "display_data"
    }
   ],
   "source": [
    "hist = train_model(model_gru,\n",
    "                   batch_size=32,\n",
    "                   n_epochs=1000,\n",
    "                   validation_split=0.2,\n",
    "                   use_class_weights=True,\n",
    "                   model_name='modelo_gru.kmodel',\n",
    "                \n",
    "                   do_save=True,\n",
    "                   log_dir='./log_gru',\n",
    "                   early_stopping_monitor='val_acc',\n",
    "                   early_stopping_patience = 5,\n",
    "                   tensorboard=False,\n",
    "                   initial_epoch = 0)\n",
    "\n",
    "plt_train(hist, model_name='GRU Bidirectional')"
   ]
  },
  {
   "cell_type": "markdown",
   "metadata": {},
   "source": [
    "### Resultados"
   ]
  },
  {
   "cell_type": "code",
   "execution_count": 24,
   "metadata": {
    "scrolled": false
   },
   "outputs": [
    {
     "name": "stdout",
     "output_type": "stream",
     "text": [
      " Resultados para el modelo \"GRU TRAIN\":\n",
      "  -  Loss: 0.497  -  Accuracy: 0.897\n",
      " Resultados para el modelo \"GRU TEST\":\n",
      "  -  Loss: 1.556  -  Accuracy: 0.729\n"
     ]
    }
   ],
   "source": [
    "_ = calc_test_stats(model_gru, ds_trn, model_name='GRU TRAIN', verbose=True)\n",
    "_ = calc_test_stats(model_gru, ds_tst, model_name='GRU TEST' , verbose=True)"
   ]
  },
  {
   "cell_type": "markdown",
   "metadata": {},
   "source": [
    "# Comentarios finales\n",
    "\n",
    "- Se observó que las clases target están dictribuidas de manera no uniforme, se propuso la utilización de class_weights para mejorar el entrenamiento.\n",
    "\n",
    "- Se encontró que el accuracy lograda Validation depende mucho de la longitud de secuencia elegida. Se probó con 400 palabras de longitud mostrando resultados pobres de accuracy. Esto puede deberse a que la red aprende de memoria los topics más largos. Secuencias por debajo de 300 dieron buenos resultados. Se terminó utilizando secuencias de 300 palabras.\n",
    "\n",
    "- Se logró entrenar una red **CNN de 1D** para este dataset, el resultado fue acc_trn=0.930, y **acc_tst=0.744**, logrando el objetivo propuesto para la práctica.\n",
    "\n",
    "- Se observó que el tamaño de la base de ids de entrada, elegida de la distribución de frecuencias, resultó suficiente para entrenar los modelos con una performance dentro de lo requerido. \n",
    "- El tamaño del embedding utilizado se varió, obteniendo resultados pobres de val_acc para embeddings muy chicos y estable para embeding más grandes. Se terminó utilizando una dim=200.\n",
    "\n",
    "- Se probó entenar el mismo dataset con una red GRU utilizando su variante de implementación Nvidia Cuda, como una red bidirecciona.\n",
    "\n",
    "- Se logró entrenar una red **GRU Bidirectional** para este dataset, el resultado fue acc_trn=0.897, y **acc_tst=0.729**, logrando el objetivo propuesto para la práctica.\n",
    "\n",
    "- Se encontró de la red GRU logró un accuracy en test del orden de la red Conv1D, pero sensiblemente menor. Esto se debe a que la red planteada supone un modelo complejo, se necesitaría una mayor cantidad de datos para entrenarla y así superaría a la red convolucional. También se podría plantear alguna forma de regularización adicional para poder generalizar aún más lo aprendido.\n",
    "\n"
   ]
  },
  {
   "cell_type": "code",
   "execution_count": null,
   "metadata": {},
   "outputs": [],
   "source": []
  }
 ],
 "metadata": {
  "accelerator": "GPU",
  "colab": {
   "collapsed_sections": [],
   "name": "Trabajo 3",
   "provenance": [],
   "version": "0.3.2"
  },
  "kernelspec": {
   "display_name": "Python 3",
   "language": "python",
   "name": "python3"
  },
  "language_info": {
   "codemirror_mode": {
    "name": "ipython",
    "version": 3
   },
   "file_extension": ".py",
   "mimetype": "text/x-python",
   "name": "python",
   "nbconvert_exporter": "python",
   "pygments_lexer": "ipython3",
   "version": "3.6.2"
  }
 },
 "nbformat": 4,
 "nbformat_minor": 1
}
