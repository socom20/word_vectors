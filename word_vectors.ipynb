{
 "cells": [
  {
   "cell_type": "markdown",
   "metadata": {
    "colab_type": "text",
    "id": "Ic4_occAAiAT"
   },
   "source": [
    "# Word Vectors"
   ]
  },
  {
   "cell_type": "markdown",
   "metadata": {
    "colab_type": "text",
    "id": "Eg62Pmz3o83v"
   },
   "source": [
    "En este trabajo, utilizaremos **embeddings** para resolver un problema de clasificación de texto. Los embeddings, representaciones distribuidas y vectoriales de elementos, son un concepto muy común en el mundo del deep learning. Los **word vectors** que hemos visto en clase son una representación en forma de embedding de las palabras.\n",
    "\n",
    "Para realizar este trabajo y sacarle el máximo partido, se recomienda ver los siguientes vídeos de clase:\n",
    "\n",
    "*   Clasificación de texto con Word Vectors.\n",
    "*   Análisis de overfitting con un modelo bag of words.\n",
    "*   Clasificación de texto con RNN\n",
    "\n",
    "Vamos a utilizar el dataset **\"Reuters newswire topics classification\"**, disponible desde Keras de manera similar al dataset de IMDB ([ver documentación](https://keras.io/datasets/#reuters-newswire-topics-classification)).\n",
    "\n",
    "---\n",
    "\n",
    "Se pide:\n",
    "\n",
    "Entrenar un modelo **utilizando embeddings** que consiga un **65% de accuracy en test (55% si usamos RNNs)**, mostrando el entrenamiento y el resultado final.\n",
    " \n",
    "Tenemos varias opciones para entrenar modelos con embeddings. El alumno puede explorar más de una pero es suficiente con conseguir un modelo que alcance la accuracy requerida:\n",
    "\n",
    "*   Utilizar una **media de embeddings** al estilo de lo visto en el vídeo *Clasificación de texto con Word Vectors*\n",
    "*   Utilizar una **CNN** sobre una secuencia de word vectors. Aquí necesitamos cambiar un poco la idea de convolución para actuar sobre sequencias de vectores. Keras incluye una [Convolución en 1D](https://keras.io/layers/convolutional/#conv1d) que puede ser utilizada en este caso, con un ejemplo de uso en la documentación. Una forma de hacer funcionar este esquema sería utilizar la convolución en 1D + max pooling.\n",
    "*  Utilizar una **RNN** sobre una secuencia de word vectors, al estilo de lo visto en el vídeo *Clasificación de texto con RNN*. Para este problema es un poco complicado conseguir un buen modelo con RNNs, y además es más difícil experimentar ya que las redes recurrentes son modelos lentos de entrenar. Por eso, es suficiente con alcanzar un 55% de accuracy si optamos por utilizar un modelo de este estilo. Un buen consejo es emplear una red recurrente bidireccional como se ve en el vídeo *Clasificación de texto con RNN*.\n",
    "\n",
    "\n",
    "\n",
    "---\n",
    "\n",
    "Dos hiperparámetros importantes a elegir en el modelo son la **longitud de las secuencias de texto** y el **tamaño del vocabulario** para los embeddings. Podéis experimentar con ambos, o utilizar los mismos que se usan en los vídeos. Nótese que, al cortar todas las secuencias para que tengan el mismo tamaño, podríamos estar perdiendo mucho texto si elegimos un tamaño de secuencia demasiado pequeño. Igualmente, si las hacemos muy largas necesitaremos más tiempo para entrenar nuestros modelos. Una buena idea consiste en explorar los datos para ver cómo suelen ser de largos los textos y encontrar un buen trade-off para el tamaño de al secuencia.\n",
    "\n",
    "\n",
    "\n",
    "---\n",
    "\n",
    "Los embeddings que hemos visto en los vídeos se entrenan junto al modelo.  Una técnica frecuente es inicializar estos embeddings con word-vectors pre-entrenados en un gran corpus de texto, como hemos visto en clase. Esto puede ayudar ya que nuestro modelo empieza con unos embeddings que ya encapsulan significado. Si bien no es necesario para esta práctica, podéis ver cómo usar esta técnica [en el siguiente tutorial](https://blog.keras.io/using-pre-trained-word-embeddings-in-a-keras-model.html).\n",
    "\n",
    "\n"
   ]
  },
  {
   "cell_type": "markdown",
   "metadata": {},
   "source": [
    "# Importamos Librerias para todo el trabajo"
   ]
  },
  {
   "cell_type": "code",
   "execution_count": 1,
   "metadata": {},
   "outputs": [
    {
     "name": "stderr",
     "output_type": "stream",
     "text": [
      "Using TensorFlow backend.\n"
     ]
    }
   ],
   "source": [
    "import numpy as np\n",
    "from matplotlib import pyplot as plt\n",
    "from collections import Counter\n",
    "import keras\n",
    "import keras.datasets"
   ]
  },
  {
   "cell_type": "markdown",
   "metadata": {},
   "source": [
    "# Bajamos y armamos el DataSet"
   ]
  },
  {
   "cell_type": "code",
   "execution_count": 71,
   "metadata": {
    "colab": {},
    "colab_type": "code",
    "id": "2ew7HTbPpCJH"
   },
   "outputs": [],
   "source": [
    "## Bajamos el IMDB dataset y armamos el dataset\n",
    "\n",
    "NUM_WORDS  = 5000 # Cantidad de palabras a utilizar\n",
    "INDEX_FROM = 3    # Offset para las primeras palabras\n",
    "\n",
    "\n",
    "if False:\n",
    "    (x_train, y_train), (x_test, y_test) = keras.datasets.imdb.load_data( path=\"imdb.npz\",\n",
    "                                                                          num_words=NUM_WORDS,\n",
    "                                                                          skip_top=0,\n",
    "                                                                          maxlen=None,\n",
    "                                                                          seed=113,\n",
    "                                                                          start_char=1,\n",
    "                                                                          oov_char=2,\n",
    "                                                                          index_from=INDEX_FROM)\n",
    "    word_to_id = keras.datasets.imdb.get_word_index()                                \n",
    "else:\n",
    "    (x_train, y_train), (x_test, y_test) = keras.datasets.reuters.load_data(path=\"reuters.npz\",\n",
    "                                                                            num_words=NUM_WORDS,\n",
    "                                                                            skip_top=0,\n",
    "                                                                            test_split=0.2,\n",
    "                                                                            maxlen=None,\n",
    "                                                                            seed=113,\n",
    "                                                                            start_char=1,  # Son los \"<START>\"\n",
    "                                                                            oov_char=2,    # Son los \"<UNK>\"\n",
    "                                                                            index_from=INDEX_FROM)\n",
    "    word_to_id = keras.datasets.reuters.get_word_index()\n",
    "\n",
    "\n",
    "# Construyo los dicts para pasar de id a word y viceversa\n",
    "word_to_id = {k:(v+INDEX_FROM) for k,v in word_to_id.items()}\n",
    "\n",
    "word_to_id[\"<PAD>\"]   = 0\n",
    "word_to_id[\"<START>\"] = 1\n",
    "word_to_id[\"<UNK>\"]   = 2\n",
    "\n",
    "id_to_word = {value:key for key,value in word_to_id.items()}\n",
    "\n",
    "\n",
    "# Armo los datasets, aún las secuencias no están recortadas no paddeadas\n",
    "ds_trn = {'input': x_train,\n",
    "          'target': y_train}\n",
    "\n",
    "ds_tst = {'input':  x_test,\n",
    "          'target': y_test}\n",
    "\n",
    "\n",
    "NUM_CLASSES   = y_train.max() + 1"
   ]
  },
  {
   "cell_type": "markdown",
   "metadata": {},
   "source": [
    "# Visualizamos el dataset"
   ]
  },
  {
   "cell_type": "code",
   "execution_count": 72,
   "metadata": {
    "scrolled": false
   },
   "outputs": [
    {
     "name": "stdout",
     "output_type": "stream",
     "text": [
      " - Datos TRAIN:   input_shape=(8982,) target_shape=(8982,)\n",
      " - Datos TEST :   input_shape=(2246,) target_shape=(2246,)\n",
      " - Cantidad de clases: 46\n",
      " - Secuencia: <START> <UNK> <UNK> said as a result of its december acquisition of space co it expects earnings per share in 1987 of 1 15 to 1 30 dlrs per share up from 70 cts in 1986 the company said pretax net should rise to nine to 10 mln dlrs from six mln dlrs in 1986 and rental operation revenues to 19 to 22 mln dlrs from 12 5 mln dlrs it said cash flow per share this year should be 2 50 to three dlrs reuter 3\n",
      " - Clase asignada: 3\n"
     ]
    },
    {
     "data": {
      "image/png": "[encoded data removed]",
      "text/plain": [
       "<matplotlib.figure.Figure at 0x7f58530fd668>"
      ]
     },
     "metadata": {
      "needs_background": "light"
     },
     "output_type": "display_data"
    }
   ],
   "source": [
    "# Mostramos el contenido\n",
    "print(' - Datos TRAIN:   input_shape={} target_shape={}'.format(ds_trn['input'].shape, ds_trn['target'].shape))\n",
    "print(' - Datos TEST :   input_shape={} target_shape={}'.format(ds_tst['input'].shape, ds_tst['target'].shape))\n",
    "print(\" - Cantidad de clases: {}\".format(NUM_CLASSES))\n",
    "\n",
    "# Mostramos una secuencia\n",
    "print(' - Secuencia:', ' '.join( [id_to_word[i] for i in ds_trn['input'][0]]) )\n",
    "print(' - Clase asignada:', ds_trn['target'][0])\n",
    "\n",
    "\n",
    "# Gráficas\n",
    "len_v = []\n",
    "freq_c = Counter()\n",
    "for ds in [ds_trn['input'], ds_tst['input']]:\n",
    "    for v in ds:\n",
    "        len_v.append( len(v) )\n",
    "        w_id_v, count_v = np.unique(v, return_counts=True)\n",
    "        for w_id, count in zip(w_id_v, count_v):\n",
    "            freq_c[w_id] += count\n",
    "            \n",
    "len_v  = np.array(len_v)\n",
    "freq_a = np.array( sorted( freq_c.items() ), dtype=np.float)\n",
    "freq_a[:,1] = freq_a[:,1]/freq_a[:,1].sum()\n",
    "\n",
    "\n",
    "\n",
    "f,axes = plt.subplots(2,1, figsize=(15,10))\n",
    "\n",
    "ax = axes[0]\n",
    "ax.hist(len_v, bins=150, normed=True, range=(0,NUM_WORDS))\n",
    "ax.set_xlabel('Longitud de review (words)')\n",
    "ax.set_ylabel('Frecuencia')\n",
    "\n",
    "\n",
    "ax = axes[1]\n",
    "ax.bar(freq_a[:,0], freq_a[:,1], 1.0)\n",
    "ax.set_xlabel('Id de la palabra (para los word_id > 3)')\n",
    "ax.set_ylabel('Frecuencia')\n",
    "ax.set_xlim((0,500))\n",
    "\n",
    "plt.show()\n"
   ]
  },
  {
   "cell_type": "markdown",
   "metadata": {},
   "source": [
    "## Comentarios:\n",
    "- Se cargó el dataset de Reuters con las 1000 palabras de mayor frecuencia\n",
    "- El dataset de train cuenta con 8982 reviews y el de dataset test con 2246 (repartición 80% y 20%).\n",
    "- De la gráfica de la distribución de longitud de Temas de Noticias, podemos ver que al elegir una longitud de secuencia mayores que 300 palabras, conservamos la mayoría de los comentarios completos. Para 300 palabras conservamos el 88.8% de las secuencuas completas. Para 400 conservamos el 93% de las secuencias completas. Al entrenar el modelo se eligirán estos valores como longitud de secuencias.\n",
    "- La grafica de frecuencia de palabras nos muestra que la elección de las 5000 palabras más relevantes deja una cola en la distribución de frecuencias de palabras muy pequeña (freq < 1.34237525e-05).\n",
    "- Se agregaron 3 ids especiales **< PAD >** para completar las secuencias cortas, **< UNK >** para palabras desconocidas de menor frecuenca que no fueron cargadas del dataset, y **< START >** para marcar el inicio de una nueva review."
   ]
  },
  {
   "cell_type": "markdown",
   "metadata": {},
   "source": [
    "# Recortamos y paddeamos las reviews del dataset\n",
    "\n",
    "En esta etapa recorto los Topics del dataset para que el modelo tenga de entrada una dimension constante. También al target lo transformo en una one-hot-verctor de dimensión 46 para poder entrenar el clasificador."
   ]
  },
  {
   "cell_type": "code",
   "execution_count": 73,
   "metadata": {},
   "outputs": [
    {
     "name": "stdout",
     "output_type": "stream",
     "text": [
      " - Secuencia con pad: <START> <UNK> <UNK> said as a result of its december acquisition of space co it expects earnings per share in 1987 of 1 15 to 1 30 dlrs per share up from 70 cts in 1986 the company said pretax net should rise to nine to 10 mln dlrs from six mln dlrs in 1986 and rental operation revenues to 19 to 22 mln dlrs from 12 5 mln dlrs it said cash flow per share this year should be 2 50 to three dlrs reuter 3 <PAD> <PAD> <PAD> <PAD> <PAD> <PAD> <PAD> <PAD> <PAD> <PAD> <PAD> <PAD> <PAD> <PAD> <PAD> <PAD> <PAD> <PAD> <PAD> <PAD> <PAD> <PAD> <PAD> <PAD> <PAD> <PAD> <PAD> <PAD> <PAD> <PAD> <PAD> <PAD> <PAD> <PAD> <PAD> <PAD> <PAD> <PAD> <PAD> <PAD> <PAD> <PAD> <PAD> <PAD> <PAD> <PAD> <PAD> <PAD> <PAD> <PAD> <PAD> <PAD> <PAD> <PAD> <PAD> <PAD> <PAD> <PAD> <PAD> <PAD> <PAD> <PAD> <PAD> <PAD> <PAD> <PAD> <PAD> <PAD> <PAD> <PAD> <PAD> <PAD> <PAD> <PAD> <PAD> <PAD> <PAD> <PAD> <PAD> <PAD> <PAD> <PAD> <PAD> <PAD> <PAD> <PAD> <PAD> <PAD> <PAD> <PAD> <PAD> <PAD> <PAD> <PAD> <PAD> <PAD> <PAD> <PAD> <PAD> <PAD> <PAD> <PAD> <PAD> <PAD> <PAD> <PAD> <PAD> <PAD> <PAD> <PAD> <PAD> <PAD> <PAD>\n",
      " - Target_shape: (8982, 46)\n"
     ]
    }
   ],
   "source": [
    "MAX_SEQ_LEN = 200\n",
    "\n",
    "for ds in [ds_trn, ds_tst]:\n",
    "    ds['input_pad'] = keras.preprocessing.sequence.pad_sequences(ds['input'],\n",
    "                                                             maxlen=MAX_SEQ_LEN,\n",
    "                                                             padding='post',\n",
    "                                                             value=0)\n",
    "    \n",
    "    ds['target_oh'] = keras.utils.to_categorical(ds['target'])\n",
    "    \n",
    "print(' - Secuencia con pad:', ' '.join( [id_to_word[i] for i in ds_trn['input_pad'][0]]) )\n",
    "print(' - Target_shape:',ds_trn['target_oh'].shape )"
   ]
  },
  {
   "cell_type": "markdown",
   "metadata": {},
   "source": [
    "# Construyo y entrenmo un modelo convolucional"
   ]
  },
  {
   "cell_type": "code",
   "execution_count": 74,
   "metadata": {},
   "outputs": [
    {
     "name": "stdout",
     "output_type": "stream",
     "text": [
      "_________________________________________________________________\n",
      "Layer (type)                 Output Shape              Param #   \n",
      "=================================================================\n",
      "input_1 (InputLayer)         (None, 200)               0         \n",
      "_________________________________________________________________\n",
      "embedding_1 (Embedding)      (None, 200, 20)           100000    \n",
      "_________________________________________________________________\n",
      "conv1d_1 (Conv1D)            (None, 196, 128)          12928     \n",
      "_________________________________________________________________\n",
      "max_pooling1d_1 (MaxPooling1 (None, 39, 128)           0         \n",
      "_________________________________________________________________\n",
      "conv1d_2 (Conv1D)            (None, 35, 128)           82048     \n",
      "_________________________________________________________________\n",
      "max_pooling1d_2 (MaxPooling1 (None, 7, 128)            0         \n",
      "_________________________________________________________________\n",
      "dropout_1 (Dropout)          (None, 7, 128)            0         \n",
      "_________________________________________________________________\n",
      "flatten_1 (Flatten)          (None, 896)               0         \n",
      "_________________________________________________________________\n",
      "dense_1 (Dense)              (None, 128)               114816    \n",
      "_________________________________________________________________\n",
      "dense_2 (Dense)              (None, 46)                5934      \n",
      "=================================================================\n",
      "Total params: 315,726\n",
      "Trainable params: 315,726\n",
      "Non-trainable params: 0\n",
      "_________________________________________________________________\n"
     ]
    }
   ],
   "source": [
    "def build_model(input_shape=(MAX_SEQ_LEN,), n_output=NUM_CLASSES, n_words=NUM_WORDS, embedding_size=20, verbose=True):\n",
    "    \n",
    "    # Agrego una layer de entrada.\n",
    "    sequence_input = keras.layers.Input(shape=input_shape, dtype='int32')\n",
    "    \n",
    "    # Agrego el embedding\n",
    "    embedded_sequences = keras.layers.Embedding(input_dim=n_words,\n",
    "                                                output_dim=embedding_size,\n",
    "                                                input_length=input_shape[0],\n",
    "                                                \n",
    "                                                embeddings_initializer='uniform',\n",
    "                                                embeddings_regularizer=None,\n",
    "                                                activity_regularizer=None,\n",
    "                                                embeddings_constraint=None,\n",
    "                                                mask_zero=False)(sequence_input)\n",
    "    \n",
    "    # Construyo el modelo a partir del embeding resultante.\n",
    "    # Propongo un modelo convolucional 1D con capas de pooling\n",
    "    x = keras.layers.Conv1D(128, 5, activation='relu')(embedded_sequences)\n",
    "    x = keras.layers.MaxPooling1D(5)(x)\n",
    "    \n",
    "    x = keras.layers.Conv1D(128, 5, activation='relu')(x)\n",
    "    x = keras.layers.MaxPooling1D(5)(x)\n",
    "    \n",
    "#     x = keras.layers.Conv1D(128, 5, activation='relu')(x)\n",
    "#     x = keras.layers.MaxPooling1D(35)(x)\n",
    "    \n",
    "    # Agrego DropOut\n",
    "    x = keras.layers.Dropout(0.5)(x)\n",
    "    \n",
    "    # Ahora la capa Dense, y armo la salida con una capa softmax\n",
    "    x = keras.layers.Flatten()(x)\n",
    "    x = keras.layers.Dense(128, activation='relu')(x)\n",
    "    \n",
    "    preds = keras.layers.Dense(n_output, activation='softmax')(x)\n",
    "\n",
    "    \n",
    "    model = keras.models.Model(sequence_input, preds)\n",
    "    model.compile(loss='categorical_crossentropy',\n",
    "                  optimizer='adam',\n",
    "                  metrics=['acc'])\n",
    "    \n",
    "    if verbose:\n",
    "        model.summary()\n",
    "    \n",
    "    return model\n",
    "\n",
    "# Creo el modelo convolucional 1D\n",
    "model_conv1d = build_model()"
   ]
  },
  {
   "cell_type": "code",
   "execution_count": null,
   "metadata": {
    "scrolled": true
   },
   "outputs": [
    {
     "name": "stdout",
     "output_type": "stream",
     "text": [
      "Epoch 1/1000\n"
     ]
    }
   ],
   "source": [
    "batch_size = 32\n",
    "n_epochs   = 1000\n",
    "validation_split = 0.2\n",
    "use_class_weights = False\n",
    "initial_epoch = 0\n",
    "early_stopping_patience = 10\n",
    "\n",
    "model_name = './modelo_conv'\n",
    "log_dir    = './log_conv'\n",
    "\n",
    "tbCallBack = keras.callbacks.TensorBoard(log_dir=log_dir,\n",
    "                                         histogram_freq=0,\n",
    "                                         write_graph=True,\n",
    "                                         write_grads=False,\n",
    "                                         batch_size=32,\n",
    "                                         write_images=False)\n",
    "\n",
    "esCallBack = keras.callbacks.EarlyStopping(monitor='val_loss',\n",
    "                                           min_delta=0,\n",
    "                                           patience=early_stopping_patience,\n",
    "                                           verbose=1,\n",
    "                                           mode='auto',\n",
    "                                           restore_best_weights=True)\n",
    "\n",
    "\n",
    "if use_class_weights:\n",
    "    class_weights = calc_class_weight.compute_class_weight('balanced', np.unique(ds_trn['target']), ds_trn['target'])\n",
    "    print(class_weights)\n",
    "else:\n",
    "    class_weights = None\n",
    "    \n",
    "    \n",
    "    \n",
    "hist = model_conv1d.fit(ds_trn['input_pad'], ds_trn['target_oh'],\n",
    "                        initial_epoch=initial_epoch,\n",
    "                        epochs=n_epochs,\n",
    "                        callbacks=[esCallBack],\n",
    "                        class_weight=class_weights)\n",
    "\n"
   ]
  },
  {
   "cell_type": "code",
   "execution_count": 79,
   "metadata": {},
   "outputs": [
    {
     "data": {
      "text/plain": [
       "(8982, 200)"
      ]
     },
     "execution_count": 79,
     "metadata": {},
     "output_type": "execute_result"
    }
   ],
   "source": [
    "ds_trn['input_pad'].shape"
   ]
  },
  {
   "cell_type": "code",
   "execution_count": 80,
   "metadata": {},
   "outputs": [
    {
     "data": {
      "text/plain": [
       "(2246, 46)"
      ]
     },
     "execution_count": 80,
     "metadata": {},
     "output_type": "execute_result"
    }
   ],
   "source": [
    "ds_tst['target_oh'].shape"
   ]
  },
  {
   "cell_type": "code",
   "execution_count": null,
   "metadata": {},
   "outputs": [],
   "source": []
  }
 ],
 "metadata": {
  "accelerator": "GPU",
  "colab": {
   "collapsed_sections": [],
   "name": "Trabajo 3",
   "provenance": [],
   "version": "0.3.2"
  },
  "kernelspec": {
   "display_name": "Python_3_TF_GPU ",
   "language": "python",
   "name": "tf_gpu"
  },
  "language_info": {
   "codemirror_mode": {
    "name": "ipython",
    "version": 3
   },
   "file_extension": ".py",
   "mimetype": "text/x-python",
   "name": "python",
   "nbconvert_exporter": "python",
   "pygments_lexer": "ipython3",
   "version": "3.5.2"
  }
 },
 "nbformat": 4,
 "nbformat_minor": 1
}
